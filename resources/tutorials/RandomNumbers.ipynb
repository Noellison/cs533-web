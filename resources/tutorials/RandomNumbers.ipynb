{
 "cells": [
  {
   "cell_type": "markdown",
   "id": "d6e150de",
   "metadata": {},
   "source": [
    "# Random Numbers\n",
    "\n",
    "This notebook provides some more details on obtaining random numbers in Python and Pandas, and how to work with *random number generators* (RNGs).\n",
    "\n",
    "We are just going to need a few packages:"
   ]
  },
  {
   "cell_type": "code",
   "execution_count": 1,
   "id": "62e20fcf",
   "metadata": {},
   "outputs": [
    {
     "name": "stderr",
     "output_type": "stream",
     "text": [
      "C:\\Users\\michaelekstrand\\scoop\\apps\\mambaforge\\current\\envs\\cs533\\lib\\site-packages\\scipy\\__init__.py:146: UserWarning: A NumPy version >=1.16.5 and <1.23.0 is required for this version of SciPy (detected version 1.23.1\n",
      "  warnings.warn(f\"A NumPy version >={np_minversion} and <{np_maxversion}\"\n"
     ]
    }
   ],
   "source": [
    "import numpy as np\n",
    "import pandas as pd\n",
    "import matplotlib.pyplot as plt\n",
    "import seaborn as sns\n",
    "import random\n",
    "import seedbank"
   ]
  },
  {
   "cell_type": "markdown",
   "id": "0119889b",
   "metadata": {},
   "source": [
    "## Generating Random Numbers\n",
    "\n",
    "Computers to not generate *actually* random numbers.  Instead they generate *pseudorandom* numbers: numbers that, for our purposes, behave as if they were random, in that we canot predict (without knowing the generator's state) what the next number will be.\n",
    "\n",
    "As we have seen, we often **seed** the random number generator so its results *are* predictable, so that we can reproduce results.\n",
    "\n",
    "Let's create a random number generator with a particular seed:"
   ]
  },
  {
   "cell_type": "code",
   "execution_count": 2,
   "id": "da9f9bd7",
   "metadata": {},
   "outputs": [],
   "source": [
    "rng = np.random.default_rng(42)"
   ]
  },
  {
   "cell_type": "markdown",
   "id": "7fb6b239",
   "metadata": {},
   "source": [
    "We can then get a number in the range $0 \\le n \\lt 50$:"
   ]
  },
  {
   "cell_type": "code",
   "execution_count": 3,
   "id": "e8d40b2b",
   "metadata": {},
   "outputs": [
    {
     "data": {
      "text/plain": [
       "4"
      ]
     },
     "execution_count": 3,
     "metadata": {},
     "output_type": "execute_result"
    }
   ],
   "source": [
    "rng.integers(50)"
   ]
  },
  {
   "cell_type": "markdown",
   "id": "fbe0ce7b",
   "metadata": {},
   "source": [
    "If we ask for a second number, we get a different one:"
   ]
  },
  {
   "cell_type": "code",
   "execution_count": 4,
   "id": "c7ef460d",
   "metadata": {},
   "outputs": [
    {
     "data": {
      "text/plain": [
       "38"
      ]
     },
     "execution_count": 4,
     "metadata": {},
     "output_type": "execute_result"
    }
   ],
   "source": [
    "rng.integers(50)"
   ]
  },
  {
   "cell_type": "markdown",
   "id": "f07f8f6e",
   "metadata": {},
   "source": [
    "If, however, we create *another* generator with the same seed, we get the same first number:"
   ]
  },
  {
   "cell_type": "code",
   "execution_count": 5,
   "id": "3eb5c943",
   "metadata": {},
   "outputs": [
    {
     "data": {
      "text/plain": [
       "4"
      ]
     },
     "execution_count": 5,
     "metadata": {},
     "output_type": "execute_result"
    }
   ],
   "source": [
    "rng2 = np.random.default_rng(42)\n",
    "rng2.integers(50)"
   ]
  },
  {
   "cell_type": "markdown",
   "id": "55db1311",
   "metadata": {},
   "source": [
    "The generator object stores a *state*, an internal number that is used to generate the next number, and updated each time we generate more numbers.  Without knowing what the state is, it is difficult to predict what the next number will be.  Such numbers, assuming they obey reasonable statistical properties, are a sufficiently close approximation to random that we can use them for simulations, bootstraps, and other things that need access to the ability to generate random numbers or make random decisions.  There are quite a few tests for determining if an RNG's output is “good enough”, which are outside the scope of this class."
   ]
  },
  {
   "cell_type": "markdown",
   "id": "927571e9",
   "metadata": {},
   "source": [
    "## Modern Approach: NumPy Generators\n",
    "\n",
    "The modern approach to doing random number generation in scientific Python code is to use a {py:class}`~numpy.random.Generator` object from NumPy.  The {py:func}`~numpy.random.default_rng` function creates such a generator, as we have seen above:"
   ]
  },
  {
   "cell_type": "code",
   "execution_count": 6,
   "id": "c95ddd84",
   "metadata": {},
   "outputs": [],
   "source": [
    "rng = np.random.default_rng(20221013)"
   ]
  },
  {
   "cell_type": "markdown",
   "id": "e6ce6522",
   "metadata": {},
   "source": [
    "NumPy actually supports multiple different random number generation algorithms, and `default_rng` creates one using the current default settings.  Future versions of NumPy may change those defaults, so sequences of numbers are only repeatable with the same NumPy version (and actually on the same OS & CPU architecture).\n",
    "\n",
    "This object supports many different methods for producing different kinds of output. We have already seen {py:meth}`~numpy.random.Generator.integers`:"
   ]
  },
  {
   "cell_type": "code",
   "execution_count": 7,
   "id": "70efcaa2",
   "metadata": {},
   "outputs": [
    {
     "data": {
      "text/plain": [
       "0"
      ]
     },
     "execution_count": 7,
     "metadata": {},
     "output_type": "execute_result"
    }
   ],
   "source": [
    "rng.integers(1000)"
   ]
  },
  {
   "cell_type": "markdown",
   "id": "6300b12e",
   "metadata": {},
   "source": [
    "It can also generate multiple integers at once as an array:"
   ]
  },
  {
   "cell_type": "code",
   "execution_count": 8,
   "id": "816e3129",
   "metadata": {},
   "outputs": [
    {
     "data": {
      "text/plain": [
       "array([222, 196, 114, 502, 953, 182, 213,  59, 367, 111], dtype=int64)"
      ]
     },
     "execution_count": 8,
     "metadata": {},
     "output_type": "execute_result"
    }
   ],
   "source": [
    "rng.integers(1000, size=10)"
   ]
  },
  {
   "cell_type": "markdown",
   "id": "1ee51b03",
   "metadata": {},
   "source": [
    "If we want random floating-point numbers in the range $[0,1)$, we can use {py:meth}`~numpy.random.Generator.random`:"
   ]
  },
  {
   "cell_type": "code",
   "execution_count": 9,
   "id": "96ea2e76",
   "metadata": {},
   "outputs": [
    {
     "data": {
      "text/plain": [
       "0.8157251358428466"
      ]
     },
     "execution_count": 9,
     "metadata": {},
     "output_type": "execute_result"
    }
   ],
   "source": [
    "rng.random()"
   ]
  },
  {
   "cell_type": "markdown",
   "id": "1d6fc0e1",
   "metadata": {},
   "source": [
    "Like `integers`, and any other methods returning numbers, it can take a `size`:"
   ]
  },
  {
   "cell_type": "code",
   "execution_count": 10,
   "id": "d9950a03",
   "metadata": {},
   "outputs": [
    {
     "data": {
      "text/plain": [
       "array([0.68121396, 0.40387077, 0.87274614, 0.9671598 , 0.76114327])"
      ]
     },
     "execution_count": 10,
     "metadata": {},
     "output_type": "execute_result"
    }
   ],
   "source": [
    "rng.random(size=5)"
   ]
  },
  {
   "cell_type": "markdown",
   "id": "5c785f1e",
   "metadata": {},
   "source": [
    "The {py:class}`~numpy.random.Generator` class has methods to draw numbers from many distributions, like the normal:"
   ]
  },
  {
   "cell_type": "code",
   "execution_count": 11,
   "id": "aead7d3b",
   "metadata": {},
   "outputs": [
    {
     "data": {
      "text/plain": [
       "-0.5737262994785399"
      ]
     },
     "execution_count": 11,
     "metadata": {},
     "output_type": "execute_result"
    }
   ],
   "source": [
    "rng.normal(0, 1)"
   ]
  },
  {
   "cell_type": "markdown",
   "id": "ad68cf7f",
   "metadata": {},
   "source": [
    "We can see that these look pretty normal if we plot a histogram of many draws:"
   ]
  },
  {
   "cell_type": "code",
   "execution_count": 12,
   "id": "14dc22e2",
   "metadata": {},
   "outputs": [
    {
     "data": {
      "image/png": "[encoded data removed]",
      "text/plain": [
       "<Figure size 360x360 with 1 Axes>"
      ]
     },
     "metadata": {
      "needs_background": "light"
     },
     "output_type": "display_data"
    }
   ],
   "source": [
    "sns.displot(x=rng.normal(5, 2, size=10000), kde=True)\n",
    "plt.show()"
   ]
  },
  {
   "cell_type": "markdown",
   "id": "a35fbe5e",
   "metadata": {},
   "source": [
    "Another is the exponeitial:"
   ]
  },
  {
   "cell_type": "code",
   "execution_count": 13,
   "id": "5db9da0f",
   "metadata": {},
   "outputs": [
    {
     "data": {
      "image/png": "[encoded data removed]",
      "text/plain": [
       "<Figure size 500x500 with 1 Axes>"
      ]
     },
     "metadata": {},
     "output_type": "display_data"
    }
   ],
   "source": [
    "sns.displot(x=rng.exponential(10, size=10000))\n",
    "plt.show()"
   ]
  },
  {
   "cell_type": "markdown",
   "id": "67ef11d7",
   "metadata": {},
   "source": [
    "The {py:meth}`~numpy.random.Generator.choice` method uses the random number generator to choose from a list or array of values. Let's make such an array:"
   ]
  },
  {
   "cell_type": "code",
   "execution_count": 14,
   "id": "369fb795",
   "metadata": {},
   "outputs": [
    {
     "data": {
      "text/plain": [
       "array([ 0,  5, 10, 15, 20, 25, 30, 35, 40, 45, 50, 55, 60, 65, 70, 75, 80,\n",
       "       85, 90, 95])"
      ]
     },
     "execution_count": 14,
     "metadata": {},
     "output_type": "execute_result"
    }
   ],
   "source": [
    "vals = np.arange(0, 100, 5)\n",
    "vals"
   ]
  },
  {
   "cell_type": "markdown",
   "id": "b5a99e62",
   "metadata": {},
   "source": [
    "And randomly pick 5 elements:"
   ]
  },
  {
   "cell_type": "code",
   "execution_count": 15,
   "id": "a0229221",
   "metadata": {},
   "outputs": [
    {
     "data": {
      "text/plain": [
       "array([70, 60, 30, 10, 40])"
      ]
     },
     "execution_count": 15,
     "metadata": {},
     "output_type": "execute_result"
    }
   ],
   "source": [
    "rng.choice(vals, 5)"
   ]
  },
  {
   "cell_type": "markdown",
   "id": "3108325d",
   "metadata": {},
   "source": [
    "By default, the sampling is *with replacement* when we use `choice`. To make it without replacement:"
   ]
  },
  {
   "cell_type": "code",
   "execution_count": 16,
   "id": "80f2e001",
   "metadata": {},
   "outputs": [
    {
     "data": {
      "text/plain": [
       "array([85, 75, 25, 95, 20])"
      ]
     },
     "execution_count": 16,
     "metadata": {},
     "output_type": "execute_result"
    }
   ],
   "source": [
    "rng.choice(vals, 5, replace=False)"
   ]
  },
  {
   "cell_type": "markdown",
   "id": "d9cd815d",
   "metadata": {},
   "source": [
    "There are several other ways that `Generator` can generate random outputs. I recommend reading its documentation."
   ]
  },
  {
   "cell_type": "markdown",
   "id": "206bb74a",
   "metadata": {},
   "source": [
    "If you use SeedBank, you can create `Generator` objects using its {py:func}`seedbank.numpy_rng` function:"
   ]
  },
  {
   "cell_type": "code",
   "execution_count": 17,
   "id": "1564f772",
   "metadata": {},
   "outputs": [
    {
     "data": {
      "text/plain": [
       "449"
      ]
     },
     "execution_count": 17,
     "metadata": {},
     "output_type": "execute_result"
    }
   ],
   "source": [
    "rng = seedbank.numpy_rng(95)\n",
    "rng.integers(1000)"
   ]
  },
  {
   "cell_type": "markdown",
   "id": "7706a019",
   "metadata": {},
   "source": [
    "This function has some additional functionality, like reusing SeedBank's state from {py:func}`seedbank.initialize` if no generator seed is provided."
   ]
  },
  {
   "cell_type": "markdown",
   "id": "9180052c",
   "metadata": {},
   "source": [
    "## Old Style: NumPy Functions\n",
    "\n",
    "NumPy also exposes many functions directly from the {py:mod}`numpy.random` module that do not require you to have a random number generator object.  They work the same way as `Generator` methods, and some of them have the same names.\n",
    "\n",
    "To generate some random floats according to the standard normal distribution:"
   ]
  },
  {
   "cell_type": "code",
   "execution_count": 18,
   "id": "df319598",
   "metadata": {},
   "outputs": [
    {
     "data": {
      "text/plain": [
       "array([ 0.91286021,  0.24710817,  0.23935922, -1.46121369, -0.75626629])"
      ]
     },
     "execution_count": 18,
     "metadata": {},
     "output_type": "execute_result"
    }
   ],
   "source": [
    "np.random.randn(5)"
   ]
  },
  {
   "cell_type": "markdown",
   "id": "ef4e2a6b",
   "metadata": {},
   "source": [
    "You can think about these functions as if they used a global `Generator` that's initialized when you start up Python.\n",
    "\n",
    ":::{note}\n",
    "The legacy random functions actually use a {py:class}`numpy.random.RandomState`, which is similar to a `Generator` but uses\n",
    "an older design that is not getting updates in new NumPy versions.  You can usually just use generators, but you may sometimes interact with libraries that need a `RandomState` and cannot operate with a `Generator`.\n",
    ":::\n",
    "\n",
    "To initialize the seed of this shared, global RNG, you can use {py:func}`numpy.random.seed`:"
   ]
  },
  {
   "cell_type": "code",
   "execution_count": 19,
   "id": "126a2b7c",
   "metadata": {},
   "outputs": [],
   "source": [
    "np.random.seed(20201013)"
   ]
  },
  {
   "cell_type": "code",
   "execution_count": 20,
   "id": "3be7539b",
   "metadata": {},
   "outputs": [
    {
     "data": {
      "text/plain": [
       "array([ 0.29024655,  0.51061925,  0.10230704,  0.38427783, -0.42088693])"
      ]
     },
     "execution_count": 20,
     "metadata": {},
     "output_type": "execute_result"
    }
   ],
   "source": [
    "np.random.randn(5)"
   ]
  },
  {
   "cell_type": "markdown",
   "id": "18d13485",
   "metadata": {},
   "source": [
    "Alternatively, you can use {py:func}`seedbank.initialize`, which initializes both NumPy's global RNG and several others:"
   ]
  },
  {
   "cell_type": "code",
   "execution_count": 21,
   "id": "c2586495",
   "metadata": {},
   "outputs": [
    {
     "data": {
      "text/plain": [
       "SeedSequence(\n",
       "    entropy=20201013,\n",
       ")"
      ]
     },
     "execution_count": 21,
     "metadata": {},
     "output_type": "execute_result"
    }
   ],
   "source": [
    "seedbank.initialize(20201013)"
   ]
  },
  {
   "cell_type": "code",
   "execution_count": 22,
   "id": "1b7fb2d0",
   "metadata": {},
   "outputs": [
    {
     "data": {
      "text/plain": [
       "array([-0.88487992,  0.64911734, -0.91608294,  0.67446197, -0.85210414])"
      ]
     },
     "execution_count": 22,
     "metadata": {},
     "output_type": "execute_result"
    }
   ],
   "source": [
    "np.random.randn(5)"
   ]
  },
  {
   "cell_type": "markdown",
   "id": "f89978cd",
   "metadata": {},
   "source": [
    ":::{note}\n",
    "This produces different numbers because SeedBank uses a slightly different algorithm from `seed` to convert the seed you provide it into an actual RNG seed.  Both, however, will initialize the RNG to produce reproducible results.\n",
    ":::"
   ]
  },
  {
   "cell_type": "markdown",
   "id": "bdcb4af7",
   "metadata": {},
   "source": [
    "The {py:func}`numpy.random.choice` method works like {py:meth}`numpy.random.Generator.choice` as well."
   ]
  },
  {
   "cell_type": "markdown",
   "id": "db2bc195",
   "metadata": {},
   "source": [
    "## Random Sampling in Pandas\n",
    "\n",
    "Pandas provides the {py:meth}`pandas.DataFrame.sample` method, and similar methods, to faciliate random sampling from data frames and series.  By default this samping is **without replacement** — its `replace` method has an opposite default as {py:meth}`~numpy.random.Generator.choice`.\n",
    "\n",
    "By default, it also uses the NumPy global random number generator:"
   ]
  },
  {
   "cell_type": "code",
   "execution_count": 23,
   "id": "b72116c2",
   "metadata": {},
   "outputs": [
    {
     "data": {
      "text/html": [
       "<div>\n",
       "<style scoped>\n",
       "    .dataframe tbody tr th:only-of-type {\n",
       "        vertical-align: middle;\n",
       "    }\n",
       "\n",
       "    .dataframe tbody tr th {\n",
       "        vertical-align: top;\n",
       "    }\n",
       "\n",
       "    .dataframe thead th {\n",
       "        text-align: right;\n",
       "    }\n",
       "</style>\n",
       "<table border=\"1\" class=\"dataframe\">\n",
       "  <thead>\n",
       "    <tr style=\"text-align: right;\">\n",
       "      <th></th>\n",
       "      <th>id</th>\n",
       "      <th>title</th>\n",
       "      <th>imdbID</th>\n",
       "      <th>spanishTitle</th>\n",
       "      <th>imdbPictureURL</th>\n",
       "      <th>year</th>\n",
       "      <th>rtID</th>\n",
       "      <th>rtAllCriticsRating</th>\n",
       "      <th>rtAllCriticsNumReviews</th>\n",
       "      <th>rtAllCriticsNumFresh</th>\n",
       "      <th>...</th>\n",
       "      <th>rtAllCriticsScore</th>\n",
       "      <th>rtTopCriticsRating</th>\n",
       "      <th>rtTopCriticsNumReviews</th>\n",
       "      <th>rtTopCriticsNumFresh</th>\n",
       "      <th>rtTopCriticsNumRotten</th>\n",
       "      <th>rtTopCriticsScore</th>\n",
       "      <th>rtAudienceRating</th>\n",
       "      <th>rtAudienceNumRatings</th>\n",
       "      <th>rtAudienceScore</th>\n",
       "      <th>rtPictureURL</th>\n",
       "    </tr>\n",
       "  </thead>\n",
       "  <tbody>\n",
       "    <tr>\n",
       "      <th>4735</th>\n",
       "      <td>5049</td>\n",
       "      <td>48 Hrs.</td>\n",
       "      <td>83511</td>\n",
       "      <td>Límite 48 horas</td>\n",
       "      <td>http://ia.media-imdb.com/images/M/MV5BMTc2Mjc4...</td>\n",
       "      <td>1982</td>\n",
       "      <td>48_hrs</td>\n",
       "      <td>7.4</td>\n",
       "      <td>33</td>\n",
       "      <td>31</td>\n",
       "      <td>...</td>\n",
       "      <td>93</td>\n",
       "      <td>0</td>\n",
       "      <td>4</td>\n",
       "      <td>3</td>\n",
       "      <td>1</td>\n",
       "      <td>75</td>\n",
       "      <td>3.2</td>\n",
       "      <td>10471</td>\n",
       "      <td>61</td>\n",
       "      <td>http://content8.flixster.com/movie/26/94/26949...</td>\n",
       "    </tr>\n",
       "    <tr>\n",
       "      <th>8815</th>\n",
       "      <td>34482</td>\n",
       "      <td>The Browning Version</td>\n",
       "      <td>109340</td>\n",
       "      <td>La versión Browning</td>\n",
       "      <td>http://ia.media-imdb.com/images/M/MV5BMTY5MjM0...</td>\n",
       "      <td>1994</td>\n",
       "      <td>1055873-browning_version</td>\n",
       "      <td>6.7</td>\n",
       "      <td>16</td>\n",
       "      <td>13</td>\n",
       "      <td>...</td>\n",
       "      <td>81</td>\n",
       "      <td>0</td>\n",
       "      <td>3</td>\n",
       "      <td>1</td>\n",
       "      <td>2</td>\n",
       "      <td>33</td>\n",
       "      <td>3.5</td>\n",
       "      <td>322</td>\n",
       "      <td>63</td>\n",
       "      <td>http://content9.flixster.com/movie/28/01/28019...</td>\n",
       "    </tr>\n",
       "    <tr>\n",
       "      <th>7884</th>\n",
       "      <td>8918</td>\n",
       "      <td>Eulogy</td>\n",
       "      <td>349416</td>\n",
       "      <td>Eulogy</td>\n",
       "      <td>http://ia.media-imdb.com/images/M/MV5BMTIxMzIz...</td>\n",
       "      <td>2004</td>\n",
       "      <td>eulogy</td>\n",
       "      <td>4.6</td>\n",
       "      <td>34</td>\n",
       "      <td>11</td>\n",
       "      <td>...</td>\n",
       "      <td>32</td>\n",
       "      <td>3.9</td>\n",
       "      <td>9</td>\n",
       "      <td>1</td>\n",
       "      <td>8</td>\n",
       "      <td>11</td>\n",
       "      <td>3.6</td>\n",
       "      <td>2744</td>\n",
       "      <td>71</td>\n",
       "      <td>http://content6.flixster.com/movie/27/09/27091...</td>\n",
       "    </tr>\n",
       "    <tr>\n",
       "      <th>4721</th>\n",
       "      <td>5035</td>\n",
       "      <td>Wuthering Heights</td>\n",
       "      <td>32145</td>\n",
       "      <td>Cumbres borrascosas</td>\n",
       "      <td>http://ia.media-imdb.com/images/M/MV5BMTYyNDY3...</td>\n",
       "      <td>1939</td>\n",
       "      <td>1024192-wuthering_heights</td>\n",
       "      <td>7.9</td>\n",
       "      <td>16</td>\n",
       "      <td>16</td>\n",
       "      <td>...</td>\n",
       "      <td>100</td>\n",
       "      <td>0</td>\n",
       "      <td>1</td>\n",
       "      <td>1</td>\n",
       "      <td>0</td>\n",
       "      <td>100</td>\n",
       "      <td>3.9</td>\n",
       "      <td>2525</td>\n",
       "      <td>84</td>\n",
       "      <td>http://content7.flixster.com/movie/31/37/31379...</td>\n",
       "    </tr>\n",
       "    <tr>\n",
       "      <th>1647</th>\n",
       "      <td>1850</td>\n",
       "      <td>I Love You, Don't Touch Me!</td>\n",
       "      <td>130019</td>\n",
       "      <td>I Love You, Don't Touch Me!</td>\n",
       "      <td>http://ia.media-imdb.com/images/M/MV5BMTI5MTk0...</td>\n",
       "      <td>1997</td>\n",
       "      <td>i_love_you_dont_touch_me</td>\n",
       "      <td>5.4</td>\n",
       "      <td>10</td>\n",
       "      <td>4</td>\n",
       "      <td>...</td>\n",
       "      <td>40</td>\n",
       "      <td>0</td>\n",
       "      <td>1</td>\n",
       "      <td>1</td>\n",
       "      <td>0</td>\n",
       "      <td>100</td>\n",
       "      <td>3.1</td>\n",
       "      <td>352</td>\n",
       "      <td>44</td>\n",
       "      <td>http://content6.flixster.com/movie/10/85/09/10...</td>\n",
       "    </tr>\n",
       "  </tbody>\n",
       "</table>\n",
       "<p>5 rows × 21 columns</p>\n",
       "</div>"
      ],
      "text/plain": [
       "         id                        title  imdbID                 spanishTitle  \\\n",
       "4735   5049                      48 Hrs.   83511              Límite 48 horas   \n",
       "8815  34482         The Browning Version  109340          La versión Browning   \n",
       "7884   8918                       Eulogy  349416                       Eulogy   \n",
       "4721   5035            Wuthering Heights   32145          Cumbres borrascosas   \n",
       "1647   1850  I Love You, Don't Touch Me!  130019  I Love You, Don't Touch Me!   \n",
       "\n",
       "                                         imdbPictureURL  year  \\\n",
       "4735  http://ia.media-imdb.com/images/M/MV5BMTc2Mjc4...  1982   \n",
       "8815  http://ia.media-imdb.com/images/M/MV5BMTY5MjM0...  1994   \n",
       "7884  http://ia.media-imdb.com/images/M/MV5BMTIxMzIz...  2004   \n",
       "4721  http://ia.media-imdb.com/images/M/MV5BMTYyNDY3...  1939   \n",
       "1647  http://ia.media-imdb.com/images/M/MV5BMTI5MTk0...  1997   \n",
       "\n",
       "                           rtID rtAllCriticsRating rtAllCriticsNumReviews  \\\n",
       "4735                     48_hrs                7.4                     33   \n",
       "8815   1055873-browning_version                6.7                     16   \n",
       "7884                     eulogy                4.6                     34   \n",
       "4721  1024192-wuthering_heights                7.9                     16   \n",
       "1647   i_love_you_dont_touch_me                5.4                     10   \n",
       "\n",
       "     rtAllCriticsNumFresh  ... rtAllCriticsScore rtTopCriticsRating  \\\n",
       "4735                   31  ...                93                  0   \n",
       "8815                   13  ...                81                  0   \n",
       "7884                   11  ...                32                3.9   \n",
       "4721                   16  ...               100                  0   \n",
       "1647                    4  ...                40                  0   \n",
       "\n",
       "     rtTopCriticsNumReviews rtTopCriticsNumFresh rtTopCriticsNumRotten  \\\n",
       "4735                      4                    3                     1   \n",
       "8815                      3                    1                     2   \n",
       "7884                      9                    1                     8   \n",
       "4721                      1                    1                     0   \n",
       "1647                      1                    1                     0   \n",
       "\n",
       "     rtTopCriticsScore rtAudienceRating rtAudienceNumRatings rtAudienceScore  \\\n",
       "4735                75              3.2                10471              61   \n",
       "8815                33              3.5                  322              63   \n",
       "7884                11              3.6                 2744              71   \n",
       "4721               100              3.9                 2525              84   \n",
       "1647               100              3.1                  352              44   \n",
       "\n",
       "                                           rtPictureURL  \n",
       "4735  http://content8.flixster.com/movie/26/94/26949...  \n",
       "8815  http://content9.flixster.com/movie/28/01/28019...  \n",
       "7884  http://content6.flixster.com/movie/27/09/27091...  \n",
       "4721  http://content7.flixster.com/movie/31/37/31379...  \n",
       "1647  http://content6.flixster.com/movie/10/85/09/10...  \n",
       "\n",
       "[5 rows x 21 columns]"
      ]
     },
     "execution_count": 23,
     "metadata": {},
     "output_type": "execute_result"
    }
   ],
   "source": [
    "movies = pd.read_table('../data/hetrec2011-ml/movies.dat', sep='\\t', encoding='latin1')\n",
    "movies.sample(n=5)"
   ]
  },
  {
   "cell_type": "markdown",
   "id": "32244a5c",
   "metadata": {},
   "source": [
    "You can also pass a generator using the `random_state` option:"
   ]
  },
  {
   "cell_type": "code",
   "execution_count": 24,
   "id": "e7b2a39e",
   "metadata": {},
   "outputs": [
    {
     "data": {
      "text/html": [
       "<div>\n",
       "<style scoped>\n",
       "    .dataframe tbody tr th:only-of-type {\n",
       "        vertical-align: middle;\n",
       "    }\n",
       "\n",
       "    .dataframe tbody tr th {\n",
       "        vertical-align: top;\n",
       "    }\n",
       "\n",
       "    .dataframe thead th {\n",
       "        text-align: right;\n",
       "    }\n",
       "</style>\n",
       "<table border=\"1\" class=\"dataframe\">\n",
       "  <thead>\n",
       "    <tr style=\"text-align: right;\">\n",
       "      <th></th>\n",
       "      <th>id</th>\n",
       "      <th>title</th>\n",
       "      <th>imdbID</th>\n",
       "      <th>spanishTitle</th>\n",
       "      <th>imdbPictureURL</th>\n",
       "      <th>year</th>\n",
       "      <th>rtID</th>\n",
       "      <th>rtAllCriticsRating</th>\n",
       "      <th>rtAllCriticsNumReviews</th>\n",
       "      <th>rtAllCriticsNumFresh</th>\n",
       "      <th>...</th>\n",
       "      <th>rtAllCriticsScore</th>\n",
       "      <th>rtTopCriticsRating</th>\n",
       "      <th>rtTopCriticsNumReviews</th>\n",
       "      <th>rtTopCriticsNumFresh</th>\n",
       "      <th>rtTopCriticsNumRotten</th>\n",
       "      <th>rtTopCriticsScore</th>\n",
       "      <th>rtAudienceRating</th>\n",
       "      <th>rtAudienceNumRatings</th>\n",
       "      <th>rtAudienceScore</th>\n",
       "      <th>rtPictureURL</th>\n",
       "    </tr>\n",
       "  </thead>\n",
       "  <tbody>\n",
       "    <tr>\n",
       "      <th>2306</th>\n",
       "      <td>2525</td>\n",
       "      <td>Albino Alligator</td>\n",
       "      <td>115495</td>\n",
       "      <td>Albino Alligator</td>\n",
       "      <td>http://ia.media-imdb.com/images/M/MV5BMTg1MjQ0...</td>\n",
       "      <td>1996</td>\n",
       "      <td>albino_alligator</td>\n",
       "      <td>5.5</td>\n",
       "      <td>17</td>\n",
       "      <td>8</td>\n",
       "      <td>...</td>\n",
       "      <td>47</td>\n",
       "      <td>5.4</td>\n",
       "      <td>6</td>\n",
       "      <td>2</td>\n",
       "      <td>4</td>\n",
       "      <td>33</td>\n",
       "      <td>3</td>\n",
       "      <td>1198</td>\n",
       "      <td>42</td>\n",
       "      <td>http://content8.flixster.com/movie/10/83/84/10...</td>\n",
       "    </tr>\n",
       "    <tr>\n",
       "      <th>5519</th>\n",
       "      <td>5857</td>\n",
       "      <td>So Fine</td>\n",
       "      <td>83099</td>\n",
       "      <td>Profesor a mi medida</td>\n",
       "      <td>http://ia.media-imdb.com/images/M/MV5BMjAxMTUy...</td>\n",
       "      <td>1981</td>\n",
       "      <td>so_fine</td>\n",
       "      <td>0</td>\n",
       "      <td>4</td>\n",
       "      <td>3</td>\n",
       "      <td>...</td>\n",
       "      <td>75</td>\n",
       "      <td>0</td>\n",
       "      <td>1</td>\n",
       "      <td>1</td>\n",
       "      <td>0</td>\n",
       "      <td>100</td>\n",
       "      <td>2.9</td>\n",
       "      <td>107</td>\n",
       "      <td>15</td>\n",
       "      <td>http://content6.flixster.com/movie/10/85/39/10...</td>\n",
       "    </tr>\n",
       "    <tr>\n",
       "      <th>4957</th>\n",
       "      <td>5278</td>\n",
       "      <td>Fraternity Vacation</td>\n",
       "      <td>89167</td>\n",
       "      <td>Fraternity Vacation</td>\n",
       "      <td>http://ia.media-imdb.com/images/M/MV5BMTc5Mjkz...</td>\n",
       "      <td>1985</td>\n",
       "      <td>fraternity_vacation</td>\n",
       "      <td>0</td>\n",
       "      <td>3</td>\n",
       "      <td>0</td>\n",
       "      <td>...</td>\n",
       "      <td>0</td>\n",
       "      <td>0</td>\n",
       "      <td>2</td>\n",
       "      <td>0</td>\n",
       "      <td>2</td>\n",
       "      <td>0</td>\n",
       "      <td>3</td>\n",
       "      <td>279</td>\n",
       "      <td>47</td>\n",
       "      <td>http://content9.flixster.com/movie/27/76/27769...</td>\n",
       "    </tr>\n",
       "    <tr>\n",
       "      <th>587</th>\n",
       "      <td>613</td>\n",
       "      <td>Jane Eyre</td>\n",
       "      <td>780362</td>\n",
       "      <td>Jane Eyre</td>\n",
       "      <td>http://ia.media-imdb.com/images/M/MV5BMTQ0Njkx...</td>\n",
       "      <td>2006</td>\n",
       "      <td>NaN</td>\n",
       "      <td>\\N</td>\n",
       "      <td>\\N</td>\n",
       "      <td>\\N</td>\n",
       "      <td>...</td>\n",
       "      <td>\\N</td>\n",
       "      <td>\\N</td>\n",
       "      <td>\\N</td>\n",
       "      <td>\\N</td>\n",
       "      <td>\\N</td>\n",
       "      <td>\\N</td>\n",
       "      <td>\\N</td>\n",
       "      <td>\\N</td>\n",
       "      <td>\\N</td>\n",
       "      <td>\\N</td>\n",
       "    </tr>\n",
       "    <tr>\n",
       "      <th>9311</th>\n",
       "      <td>48982</td>\n",
       "      <td>Flushed Away</td>\n",
       "      <td>424095</td>\n",
       "      <td>Ratónpolis</td>\n",
       "      <td>http://ia.media-imdb.com/images/M/MV5BOTIwOTc5...</td>\n",
       "      <td>2006</td>\n",
       "      <td>flushed_away</td>\n",
       "      <td>6.7</td>\n",
       "      <td>128</td>\n",
       "      <td>92</td>\n",
       "      <td>...</td>\n",
       "      <td>71</td>\n",
       "      <td>6.7</td>\n",
       "      <td>33</td>\n",
       "      <td>25</td>\n",
       "      <td>8</td>\n",
       "      <td>75</td>\n",
       "      <td>3.3</td>\n",
       "      <td>58694</td>\n",
       "      <td>68</td>\n",
       "      <td>http://content6.flixster.com/movie/10/88/03/10...</td>\n",
       "    </tr>\n",
       "  </tbody>\n",
       "</table>\n",
       "<p>5 rows × 21 columns</p>\n",
       "</div>"
      ],
      "text/plain": [
       "         id                title  imdbID          spanishTitle  \\\n",
       "2306   2525     Albino Alligator  115495      Albino Alligator   \n",
       "5519   5857              So Fine   83099  Profesor a mi medida   \n",
       "4957   5278  Fraternity Vacation   89167   Fraternity Vacation   \n",
       "587     613            Jane Eyre  780362             Jane Eyre   \n",
       "9311  48982         Flushed Away  424095            Ratónpolis   \n",
       "\n",
       "                                         imdbPictureURL  year  \\\n",
       "2306  http://ia.media-imdb.com/images/M/MV5BMTg1MjQ0...  1996   \n",
       "5519  http://ia.media-imdb.com/images/M/MV5BMjAxMTUy...  1981   \n",
       "4957  http://ia.media-imdb.com/images/M/MV5BMTc5Mjkz...  1985   \n",
       "587   http://ia.media-imdb.com/images/M/MV5BMTQ0Njkx...  2006   \n",
       "9311  http://ia.media-imdb.com/images/M/MV5BOTIwOTc5...  2006   \n",
       "\n",
       "                     rtID rtAllCriticsRating rtAllCriticsNumReviews  \\\n",
       "2306     albino_alligator                5.5                     17   \n",
       "5519              so_fine                  0                      4   \n",
       "4957  fraternity_vacation                  0                      3   \n",
       "587                   NaN                 \\N                     \\N   \n",
       "9311         flushed_away                6.7                    128   \n",
       "\n",
       "     rtAllCriticsNumFresh  ... rtAllCriticsScore rtTopCriticsRating  \\\n",
       "2306                    8  ...                47                5.4   \n",
       "5519                    3  ...                75                  0   \n",
       "4957                    0  ...                 0                  0   \n",
       "587                    \\N  ...                \\N                 \\N   \n",
       "9311                   92  ...                71                6.7   \n",
       "\n",
       "     rtTopCriticsNumReviews rtTopCriticsNumFresh rtTopCriticsNumRotten  \\\n",
       "2306                      6                    2                     4   \n",
       "5519                      1                    1                     0   \n",
       "4957                      2                    0                     2   \n",
       "587                      \\N                   \\N                    \\N   \n",
       "9311                     33                   25                     8   \n",
       "\n",
       "     rtTopCriticsScore rtAudienceRating rtAudienceNumRatings rtAudienceScore  \\\n",
       "2306                33                3                 1198              42   \n",
       "5519               100              2.9                  107              15   \n",
       "4957                 0                3                  279              47   \n",
       "587                 \\N               \\N                   \\N              \\N   \n",
       "9311                75              3.3                58694              68   \n",
       "\n",
       "                                           rtPictureURL  \n",
       "2306  http://content8.flixster.com/movie/10/83/84/10...  \n",
       "5519  http://content6.flixster.com/movie/10/85/39/10...  \n",
       "4957  http://content9.flixster.com/movie/27/76/27769...  \n",
       "587                                                  \\N  \n",
       "9311  http://content6.flixster.com/movie/10/88/03/10...  \n",
       "\n",
       "[5 rows x 21 columns]"
      ]
     },
     "execution_count": 24,
     "metadata": {},
     "output_type": "execute_result"
    }
   ],
   "source": [
    "movies.sample(n=5, random_state=rng)"
   ]
  },
  {
   "cell_type": "markdown",
   "id": "3f2bc65c",
   "metadata": {},
   "source": [
    "## Recommendations\n",
    "\n",
    "For quick-and-dirty code, I usually just call {py:func}`seedbank.initialize` at the top of my notebook, create a generator with the defaults for NumPy sampling, and then use Pandas' defaults for Pandas sampling.  The initialization code looks like this:"
   ]
  },
  {
   "cell_type": "code",
   "execution_count": 25,
   "id": "1c14d8cc",
   "metadata": {},
   "outputs": [],
   "source": [
    "seedbank.initialize(20221013)\n",
    "rng = seedbank.numpy_rng()"
   ]
  },
  {
   "cell_type": "markdown",
   "id": "f4879adb",
   "metadata": {},
   "source": [
    "For more advanced code, particularly if I am writing library code to be used by others, I do everything by creating an {py:class}`~numpy.random.Generator` object and passing it around to other code that needs it."
   ]
  },
  {
   "cell_type": "markdown",
   "id": "cb9d664f",
   "metadata": {},
   "source": [
    ":::{warning}\n",
    "None of the random number generators here are **cryptographically secure**.  If you need random numbers that are unpredictable for security or cryptographic purposes, you will need to use a cryptographic random number generator, which is out-of-scope for the class.\n",
    ":::"
   ]
  }
 ],
 "metadata": {
  "kernelspec": {
   "display_name": "Python 3 (ipykernel)",
   "language": "python",
   "name": "python3"
  },
  "language_info": {
   "codemirror_mode": {
    "name": "ipython",
    "version": 3
   },
   "file_extension": ".py",
   "mimetype": "text/x-python",
   "name": "python",
   "nbconvert_exporter": "python",
   "pygments_lexer": "ipython3",
   "version": "3.8.13"
  }
 },
 "nbformat": 4,
 "nbformat_minor": 5
}
